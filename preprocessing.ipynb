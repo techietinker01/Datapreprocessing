{
 "cells": [
  {
   "cell_type": "markdown",
   "id": "b55d0a33",
   "metadata": {},
   "source": [
    "# 1. DATAPROCESSING"
   ]
  },
  {
   "cell_type": "code",
   "execution_count": 100,
   "id": "b28dfcd5",
   "metadata": {},
   "outputs": [
    {
     "name": "stdout",
     "output_type": "stream",
     "text": [
      "Brack Obama is a prime minister of USA in the year of 2015. NARENDRA MODI is the prime minister of INDIA\n"
     ]
    }
   ],
   "source": [
    "input = \"Brack Obama is a prime minister of USA in the year of 2015. NARENDRA MODI is the prime minister of INDIA\"\n",
    "print(input)"
   ]
  },
  {
   "cell_type": "code",
   "execution_count": 101,
   "id": "5011c1ec",
   "metadata": {},
   "outputs": [
    {
     "name": "stdout",
     "output_type": "stream",
     "text": [
      "LOWERCSE =  brack obama is a prime minister of usa in the year of 2015. narendra modi is the prime minister of india\n",
      "REGULAR EXP1 =  brack obama is a prime minister of usa in the year of 2025. narendra modi is the prime minister of india\n",
      "REGULAR EXP2 =  *r*** o**** *s * pr*** **n*st*r o* us* *n t** y**r o* 2015. n*r*n*r* *o** *s t** pr*** **n*st*r o* *n***\n",
      "REGULAR EXP3 =  brack obama is a prime minister of usa in the year of 2015. narendra modi is the prime minister of india\n"
     ]
    }
   ],
   "source": [
    "#(1)lowercase\n",
    "lowercase = input.lower()\n",
    "print(\"LOWERCSE = \", lowercase)\n",
    "\n",
    "#re\n",
    "#pip install re\n",
    "import re\n",
    "lowercase_re = re.sub('2015', '2025', lowercase)\n",
    "print(\"REGULAR EXP1 = \", lowercase_re)\n",
    "lowercase_re = re.sub('[a-m]', '*', lowercase)\n",
    "print(\"REGULAR EXP2 = \", lowercase_re)\n",
    "lowercase_re = re.sub('/d', '-', lowercase)\n",
    "print(\"REGULAR EXP3 = \", lowercase_re)"
   ]
  },
  {
   "cell_type": "code",
   "execution_count": 102,
   "id": "e115bf42",
   "metadata": {},
   "outputs": [
    {
     "name": "stdout",
     "output_type": "stream",
     "text": [
      "WORD TOKENS =  ['Brack', 'Obama', 'is', 'a', 'prime', 'minister', 'of', 'USA', 'in', 'the', 'year', 'of', '2015', '.', 'NARENDRA', 'MODI', 'is', 'the', 'prime', 'minister', 'of', 'INDIA']\n",
      "22\n",
      "SENT TOKENS =  ['Brack Obama is a prime minister of USA in the year of 2015.', 'NARENDRA MODI is the prime minister of INDIA']\n",
      "2\n"
     ]
    }
   ],
   "source": [
    "#(2)Tokenization\n",
    "import nltk\n",
    "from nltk import word_tokenize, sent_tokenize\n",
    "\n",
    "word_tokens = word_tokenize(input)\n",
    "print(\"WORD TOKENS = \", word_tokens)\n",
    "print(len(word_tokens))\n",
    "sent_tokens = sent_tokenize(input)\n",
    "print(\"SENT TOKENS = \", sent_tokens)\n",
    "print(len(sent_tokens))"
   ]
  },
  {
   "cell_type": "code",
   "execution_count": 103,
   "id": "f70fcc8b",
   "metadata": {},
   "outputs": [
    {
     "name": "stdout",
     "output_type": "stream",
     "text": [
      "Brack Obama prime minister USA year 2015 . NARENDRA MODI prime minister INDIA\n"
     ]
    }
   ],
   "source": [
    "#(3)stopwords Removal\n",
    "from nltk.corpus import stopwords\n",
    "#print(stopwords.fileids())\n",
    "stopwords = set(stopwords.words('english'))\n",
    "#print(\"\\n\", stopwords)\n",
    "\n",
    "tokens_stopwords = []\n",
    "for token in word_tokens:\n",
    "    if token not in stopwords:\n",
    "        tokens_stopwords.append(token)\n",
    "print(' '.join(tokens_stopwords))"
   ]
  },
  {
   "cell_type": "code",
   "execution_count": 104,
   "id": "154bebeb",
   "metadata": {},
   "outputs": [
    {
     "name": "stdout",
     "output_type": "stream",
     "text": [
      "['brack', 'obama', 'prime', 'minist', 'usa', 'year', '2015', '.', 'narendra', 'modi', 'prime', 'minist', 'india']\n"
     ]
    }
   ],
   "source": [
    "#Stemmer\n",
    "stemming = []\n",
    "from nltk import PorterStemmer\n",
    "for word in tokens_stopwords:\n",
    "    stemming.append(PorterStemmer().stem(word))\n",
    "print(stemming)"
   ]
  },
  {
   "cell_type": "code",
   "execution_count": 105,
   "id": "ceba5ba1",
   "metadata": {},
   "outputs": [
    {
     "name": "stdout",
     "output_type": "stream",
     "text": [
      "['Brack', 'Obama', 'prime', 'minister', 'USA', 'year', '2015', '.', 'NARENDRA', 'MODI', 'prime', 'minister', 'INDIA']\n"
     ]
    }
   ],
   "source": [
    "#Lemmatizer\n",
    "from nltk import WordNetLemmatizer\n",
    "lma = []\n",
    "for word in tokens_stopwords:\n",
    "    lma.append(WordNetLemmatizer().lemmatize(word))\n",
    "print(lma)"
   ]
  },
  {
   "cell_type": "code",
   "execution_count": 106,
   "id": "79877146",
   "metadata": {},
   "outputs": [
    {
     "name": "stdout",
     "output_type": "stream",
     "text": [
      "[('Brack', 'NNP'), ('Obama', 'NNP'), ('is', 'VBZ'), ('a', 'DT'), ('prime', 'JJ'), ('minister', 'NN'), ('of', 'IN'), ('USA', 'NNP'), ('in', 'IN'), ('the', 'DT'), ('year', 'NN'), ('of', 'IN'), ('2015', 'CD'), ('.', '.'), ('NARENDRA', 'NNP'), ('MODI', 'NNP'), ('is', 'VBZ'), ('the', 'DT'), ('prime', 'JJ'), ('minister', 'NN'), ('of', 'IN'), ('INDIA', 'NNP')]\n"
     ]
    }
   ],
   "source": [
    "#POS Tags\n",
    "from nltk import pos_tag\n",
    "print(pos_tag(word_tokens))"
   ]
  },
  {
   "cell_type": "markdown",
   "id": "506eeac4",
   "metadata": {},
   "source": [
    "# 2. NER"
   ]
  },
  {
   "cell_type": "code",
   "execution_count": 107,
   "id": "57e7e1a6",
   "metadata": {},
   "outputs": [
    {
     "name": "stdout",
     "output_type": "stream",
     "text": [
      "['Brack']\n",
      "['Brack', 'Obama']\n",
      "['Brack', 'Obama', 'USA']\n",
      "['Brack', 'Obama', 'USA', 'NARENDRA']\n",
      "['Brack', 'Obama', 'USA', 'NARENDRA', 'INDIA']\n"
     ]
    }
   ],
   "source": [
    "import nltk\n",
    "from nltk import word_tokenize, pos_tag, ne_chunk\n",
    "\n",
    "input = \"Brack Obama is a prime minister of USA in the year of 2015. NARENDRA MODI is the prime minister of INDIA\"\n",
    "ner = ne_chunk(pos_tag(word_tokenize(input)))\n",
    "#print(ner)\n",
    "from nltk.tree import Tree\n",
    "named_entity = []\n",
    "for subtree in ner:\n",
    "    if isinstance(subtree, Tree):\n",
    "        entity = \"\".join([token for token, pos in subtree.leaves()])\n",
    "        named_entity.append(entity)\n",
    "        print(named_entity)"
   ]
  },
  {
   "cell_type": "markdown",
   "id": "0e81e25f",
   "metadata": {},
   "source": [
    "# 3. NER USING SPACY"
   ]
  },
  {
   "cell_type": "code",
   "execution_count": 108,
   "id": "edfca1ae",
   "metadata": {},
   "outputs": [
    {
     "name": "stdout",
     "output_type": "stream",
     "text": [
      "['Barack Obama']\n",
      "['Barack Obama', 'USA']\n",
      "['Barack Obama', 'USA', 'the year']\n",
      "['Barack Obama', 'USA', 'the year', '2015.PM MODI']\n",
      "['Barack Obama', 'USA', 'the year', '2015.PM MODI', 'INDIA']\n"
     ]
    }
   ],
   "source": [
    "#pip install spacy\n",
    "import spacy\n",
    "nlp = spacy.load(\"en_core_web_sm\")\n",
    "text = \"Barack Obama went as a prime minister of USA in the year of 2015.PM MODI is the prime minister of INDIA.\"\n",
    "doc = nlp(text)\n",
    "named_entity = []\n",
    "for ent in doc.ents:\n",
    "    named_entity.append(ent.text)\n",
    "    print(named_entity)"
   ]
  },
  {
   "cell_type": "markdown",
   "id": "612a5964",
   "metadata": {},
   "source": [
    "# 4. PREDICTIVE ANALYSIS"
   ]
  },
  {
   "cell_type": "code",
   "execution_count": 109,
   "id": "20143c6d",
   "metadata": {},
   "outputs": [
    {
     "name": "stdout",
     "output_type": "stream",
     "text": [
      "['appl boy cat', 'appl cat dog', 'dog egg fan']\n",
      "<Compressed Sparse Row sparse matrix of dtype 'float64'\n",
      "\twith 9 stored elements and shape (3, 6)>\n",
      "  Coords\tValues\n",
      "  (0, 0)\t0.5178561161676974\n",
      "  (0, 1)\t0.680918560398684\n",
      "  (0, 2)\t0.5178561161676974\n",
      "  (1, 0)\t0.5773502691896257\n",
      "  (1, 2)\t0.5773502691896257\n",
      "  (1, 3)\t0.5773502691896257\n",
      "  (2, 3)\t0.4736296010332684\n",
      "  (2, 4)\t0.6227660078332259\n",
      "  (2, 5)\t0.6227660078332259\n"
     ]
    }
   ],
   "source": [
    "# TF-IDF\n",
    "from nltk import word_tokenize\n",
    "from nltk.corpus import stopwords\n",
    "from nltk.stem import PorterStemmer\n",
    "# pip install scikit-learn\n",
    "from sklearn.feature_extraction.text import TfidfVectorizer\n",
    "\n",
    "stopwords = set(stopwords.words('english'))\n",
    "ps = PorterStemmer()\n",
    "vector = TfidfVectorizer()\n",
    "\n",
    "documents= [ \"apple boy cat\", \"apple cat dog\", \"dog egg fan\" ]\n",
    "\n",
    "preprocessed = []\n",
    "for doc in documents:\n",
    "    tokenization = word_tokenize(doc)\n",
    "    stop = [ps.stem(word) for word in tokenization if word not in stopwords]\n",
    "    preprocessed.append(\" \".join(stop))\n",
    "print(preprocessed)\n",
    "word_score = vector.fit_transform(preprocessed)\n",
    "print(word_score)"
   ]
  },
  {
   "cell_type": "markdown",
   "id": "1942aeaf",
   "metadata": {},
   "source": [
    "# 5. SIMPLE LINEAR REGRESSION"
   ]
  },
  {
   "cell_type": "code",
   "execution_count": 110,
   "id": "67f766ba",
   "metadata": {},
   "outputs": [
    {
     "data": {
      "image/png": "[encoded data removed]",
      "text/plain": [
       "<Figure size 640x480 with 1 Axes>"
      ]
     },
     "metadata": {},
     "output_type": "display_data"
    }
   ],
   "source": [
    "import matplotlib.pyplot as plt\n",
    "\n",
    "x = [1,2,3,4,5,6,7,8,9]\n",
    "y = [4,7,1,2,4,5,7,8,5]\n",
    "\n",
    "def slr(x):\n",
    "    return slope * x + intercept\n",
    "\n",
    "from scipy import stats\n",
    "slope, intercept, r, p, std_err = stats.linregress(x,y)\n",
    "\n",
    "model = list(map(slr, x))\n",
    "plt.plot(x, model)\n",
    "\n",
    "plt.scatter(x,y)\n",
    "plt.show()"
   ]
  },
  {
   "cell_type": "markdown",
   "id": "c9f71388",
   "metadata": {},
   "source": [
    "# 6. MLR"
   ]
  },
  {
   "cell_type": "code",
   "execution_count": 111,
   "id": "6f4e3baa",
   "metadata": {},
   "outputs": [
    {
     "name": "stdout",
     "output_type": "stream",
     "text": [
      "      Id  SepalLengthCm  SepalWidthCm  PetalLengthCm  PetalWidthCm  \\\n",
      "0      1            5.1           3.5            1.4           0.2   \n",
      "1      2            4.9           3.0            1.4           0.2   \n",
      "2      3            4.7           3.2            1.3           0.2   \n",
      "3      4            4.6           3.1            1.5           0.2   \n",
      "4      5            5.0           3.6            1.4           0.2   \n",
      "..   ...            ...           ...            ...           ...   \n",
      "145  146            6.7           3.0            5.2           2.3   \n",
      "146  147            6.3           2.5            5.0           1.9   \n",
      "147  148            6.5           3.0            5.2           2.0   \n",
      "148  149            6.2           3.4            5.4           2.3   \n",
      "149  150            5.9           3.0            5.1           1.8   \n",
      "\n",
      "            Species  \n",
      "0       Iris-setosa  \n",
      "1       Iris-setosa  \n",
      "2       Iris-setosa  \n",
      "3       Iris-setosa  \n",
      "4       Iris-setosa  \n",
      "..              ...  \n",
      "145  Iris-virginica  \n",
      "146  Iris-virginica  \n",
      "147  Iris-virginica  \n",
      "148  Iris-virginica  \n",
      "149  Iris-virginica  \n",
      "\n",
      "[150 rows x 6 columns]\n",
      "[1.491347   4.72359231 4.64298034 5.0305835  5.22493982 4.90138245\n",
      " 3.81807545 7.34185525 3.78605256 1.99269451 3.54421664 0.79675265\n",
      " 1.55650227 4.23881099 6.40542498 4.75561521 4.17365572 2.07330648\n",
      " 5.09462929 2.47747583 1.03858857 5.48334193 1.42730121 4.85279337\n",
      " 0.9579766  1.41073503 4.94997153 2.8805357  4.4972131  4.23881099]\n"
     ]
    }
   ],
   "source": [
    "import pandas as pd\n",
    "iris = pd.read_csv(\"IRIS.csv\")\n",
    "print(iris)\n",
    "import numpy as np\n",
    "\n",
    "x = iris[['SepalLengthCm', 'SepalWidthCm']]\n",
    "y = iris.PetalLengthCm\n",
    "\n",
    "from sklearn.model_selection import train_test_split\n",
    "x_train, x_test, y_train, y_test = train_test_split(x,y,test_size=0.2)\n",
    "\n",
    "from sklearn.linear_model import LinearRegression\n",
    "LR = LinearRegression()\n",
    "training = LR.fit(x_train, y_train)\n",
    "y_pred = LR.predict(x_test)\n",
    "print(y_pred)"
   ]
  },
  {
   "cell_type": "markdown",
   "id": "89151f40",
   "metadata": {},
   "source": [
    "# 7. SLR & MLR with Performance Metrics:"
   ]
  },
  {
   "cell_type": "code",
   "execution_count": 112,
   "id": "76a4b1f3",
   "metadata": {},
   "outputs": [
    {
     "name": "stdout",
     "output_type": "stream",
     "text": [
      "      Id  SepalLengthCm  SepalWidthCm  PetalLengthCm  PetalWidthCm  \\\n",
      "0      1            5.1           3.5            1.4           0.2   \n",
      "1      2            4.9           3.0            1.4           0.2   \n",
      "2      3            4.7           3.2            1.3           0.2   \n",
      "3      4            4.6           3.1            1.5           0.2   \n",
      "4      5            5.0           3.6            1.4           0.2   \n",
      "..   ...            ...           ...            ...           ...   \n",
      "145  146            6.7           3.0            5.2           2.3   \n",
      "146  147            6.3           2.5            5.0           1.9   \n",
      "147  148            6.5           3.0            5.2           2.0   \n",
      "148  149            6.2           3.4            5.4           2.3   \n",
      "149  150            5.9           3.0            5.1           1.8   \n",
      "\n",
      "            Species  \n",
      "0       Iris-setosa  \n",
      "1       Iris-setosa  \n",
      "2       Iris-setosa  \n",
      "3       Iris-setosa  \n",
      "4       Iris-setosa  \n",
      "..              ...  \n",
      "145  Iris-virginica  \n",
      "146  Iris-virginica  \n",
      "147  Iris-virginica  \n",
      "148  Iris-virginica  \n",
      "149  Iris-virginica  \n",
      "\n",
      "[150 rows x 6 columns]\n",
      "[2.06278324 1.13033727 1.67817804 4.61154559 1.998062   4.92112017\n",
      " 5.33293131 2.14440102 1.07592542 3.43424628 3.77102679 5.92487454\n",
      " 4.35638287 1.59656026 2.96802329 5.31603477 5.30572538 5.10497451\n",
      " 1.97085608 5.69033059 1.55904494 1.91644422 4.30197102 2.56652155\n",
      " 4.155632   5.21379821 1.47742716 2.23632819 3.31511319 2.02526793] \n",
      "\n",
      "Mean Absoute Error:  0.5486981731204892\n",
      "Mean Squeared Error:  0.4469372092705894\n",
      "RMSE:  0.6685336261330386\n",
      "[3.09293835 4.9621974  4.21449378 1.4106052  2.34523472 5.14912331\n",
      " 2.15830882 3.65371606 3.09293835 3.46679016 4.58834559 1.97138291\n",
      " 2.90601244 4.02756787 3.27986425 0.84982748 3.27986425 3.27986425\n",
      " 4.7752715  5.33604921 1.03675338 4.02756787 4.40141969 4.9621974\n",
      " 4.58834559 7.20530827 2.90601244 3.46679016 4.58834559 1.78445701] \n",
      "\n",
      "Mean Absoute Error:  0.7477378400229507\n",
      "Mean Squeared Error:  0.8195873293332122\n",
      "RMSE:  0.9053106258810907\n"
     ]
    }
   ],
   "source": [
    "import pandas as pd\n",
    "iris = pd.read_csv(\"IRIS.csv\")\n",
    "print(iris)\n",
    "\n",
    "import numpy as np\n",
    "\n",
    "x = iris[['SepalLengthCm', 'SepalWidthCm']]\n",
    "y = iris.PetalLengthCm\n",
    "\n",
    "from sklearn.model_selection import train_test_split\n",
    "x_train, x_test, y_train, y_test = train_test_split(x,y,test_size=0.2)\n",
    "\n",
    "from sklearn.linear_model import LinearRegression\n",
    "LR = LinearRegression()\n",
    "\n",
    "training = LR.fit(x_train, y_train)\n",
    "y_pred = LR.predict(x_test)\n",
    "print(y_pred, \"\\n\")\n",
    "\n",
    "#pip install numpy\n",
    "import numpy as np\n",
    "from sklearn import metrics\n",
    "\n",
    "MAE = metrics.mean_absolute_error(y_test, y_pred)\n",
    "print(\"Mean Absoute Error: \", MAE)\n",
    "MSE = metrics.mean_squared_error(y_test, y_pred)\n",
    "print(\"Mean Squeared Error: \", MSE)\n",
    "RMSE = np.sqrt(metrics.mean_squared_error(y_test, y_pred))\n",
    "print(\"RMSE: \", RMSE)\n",
    "\n",
    "\n",
    "import numpy as np\n",
    "\n",
    "x = iris[['SepalLengthCm']]\n",
    "y = iris.PetalLengthCm\n",
    "\n",
    "from sklearn.model_selection import train_test_split\n",
    "x_train, x_test, y_train, y_test = train_test_split(x,y,test_size=0.2)\n",
    "\n",
    "from sklearn.linear_model import LinearRegression\n",
    "LR = LinearRegression()\n",
    "\n",
    "training = LR.fit(x_train, y_train)\n",
    "y_pred = LR.predict(x_test)\n",
    "print(y_pred, \"\\n\")\n",
    "\n",
    "#pip install numpy\n",
    "import numpy as np\n",
    "from sklearn import metrics\n",
    "\n",
    "MAE = metrics.mean_absolute_error(y_test, y_pred)\n",
    "print(\"Mean Absoute Error: \", MAE)\n",
    "MSE = metrics.mean_squared_error(y_test, y_pred)\n",
    "print(\"Mean Squeared Error: \", MSE)\n",
    "RMSE = np.sqrt(metrics.mean_squared_error(y_test, y_pred))\n",
    "print(\"RMSE: \", RMSE)"
   ]
  },
  {
   "cell_type": "markdown",
   "id": "e53f1ff9",
   "metadata": {},
   "source": [
    "# 8. KNN"
   ]
  },
  {
   "cell_type": "code",
   "execution_count": 113,
   "id": "964ad069",
   "metadata": {},
   "outputs": [
    {
     "name": "stdout",
     "output_type": "stream",
     "text": [
      "[1 1 2 2 1 1 2 0 1 2 0 0 1 1 0 0 2 2 1 2 2 0 1 2 2 1 1 1 1 0]\n",
      "\n",
      "Accuracy :  0.9333333333333333\n",
      "Precision :  0.9487179487179488\n",
      "Recall :  0.9444444444444445\n",
      "F1-SCORE :  0.9419191919191919\n",
      "AUC :  0.9984309468958591\n"
     ]
    }
   ],
   "source": [
    "from sklearn import datasets\n",
    "iris = datasets.load_iris()\n",
    "\n",
    "x = iris.data\n",
    "y = iris.target\n",
    "\n",
    "from sklearn.model_selection import train_test_split\n",
    "x_train, x_test, y_train, y_test = train_test_split(x,y,train_size=0.8)\n",
    "\n",
    "from sklearn.neighbors import KNeighborsClassifier\n",
    "knn = KNeighborsClassifier()\n",
    "\n",
    "train = knn.fit(x_train, y_train)\n",
    "y_pred = knn.predict(x_test)\n",
    "print(y_pred)\n",
    "y_auc = knn.predict_proba(x_test)\n",
    "\n",
    "from sklearn.metrics import accuracy_score, precision_score, recall_score, f1_score, roc_auc_score\n",
    "Accuracy = accuracy_score(y_test, y_pred)\n",
    "Precision = precision_score(y_test, y_pred, average='macro')\n",
    "Recall = recall_score(y_test, y_pred, average='macro')\n",
    "f1 = f1_score(y_test, y_pred, average='macro')\n",
    "auc = roc_auc_score(y_test, y_auc, multi_class='ovr')\n",
    "\n",
    "print(\"\\nAccuracy : \", Accuracy)\n",
    "print(\"Precision : \", Precision)\n",
    "print(\"Recall : \", Recall)\n",
    "print(\"F1-SCORE : \", f1)\n",
    "print(\"AUC : \", auc)"
   ]
  },
  {
   "cell_type": "markdown",
   "id": "42220b6d",
   "metadata": {},
   "source": [
    "# 9. DECISION TREE"
   ]
  },
  {
   "cell_type": "code",
   "execution_count": 114,
   "id": "983b4bfa",
   "metadata": {},
   "outputs": [
    {
     "name": "stdout",
     "output_type": "stream",
     "text": [
      "[0 1 2 2 1 2 0 0 0 2 1 1 1 2 0 0 1 2 1 1 1 0 2 1 0 2 0 2 1 0]\n",
      "\n",
      "Accuracy :  0.9666666666666667\n",
      "Precision :  0.9629629629629629\n",
      "Recall :  0.9722222222222222\n",
      "F1-SCORE :  0.9658994032395567\n",
      "AUC :  0.9785353535353535\n"
     ]
    }
   ],
   "source": [
    "from sklearn import datasets\n",
    "iris = datasets.load_iris()\n",
    "\n",
    "x = iris.data\n",
    "y = iris.target\n",
    "\n",
    "from sklearn.model_selection import train_test_split\n",
    "x_train, x_test, y_train, y_test = train_test_split(x,y,train_size=0.8)\n",
    "\n",
    "from sklearn.tree import DecisionTreeClassifier\n",
    "DT = DecisionTreeClassifier()\n",
    "\n",
    "train = DT.fit(x_train, y_train)\n",
    "y_pred = DT.predict(x_test)\n",
    "print(y_pred)\n",
    "y_auc = DT.predict_proba(x_test)\n",
    "\n",
    "from sklearn.metrics import accuracy_score, precision_score, recall_score, f1_score, roc_auc_score\n",
    "Accuracy = accuracy_score(y_test, y_pred)\n",
    "Precision = precision_score(y_test, y_pred, average='macro')\n",
    "Recall = recall_score(y_test, y_pred, average='macro')\n",
    "f1 = f1_score(y_test, y_pred, average='macro')\n",
    "auc = roc_auc_score(y_test, y_auc, multi_class='ovr')\n",
    "\n",
    "print(\"\\nAccuracy : \", Accuracy)\n",
    "print(\"Precision : \", Precision)\n",
    "print(\"Recall : \", Recall)\n",
    "print(\"F1-SCORE : \", f1)\n",
    "print(\"AUC : \", auc)"
   ]
  },
  {
   "cell_type": "markdown",
   "id": "33233929",
   "metadata": {},
   "source": [
    "# 10. RANDOM FOREST"
   ]
  },
  {
   "cell_type": "code",
   "execution_count": 115,
   "id": "387e60c2",
   "metadata": {},
   "outputs": [
    {
     "name": "stdout",
     "output_type": "stream",
     "text": [
      "[1 2 0 0 1 1 1 1 1 2 1 2 1 2 0 1 2 2 0 0 0 1 1 0 0 1 2 1 1 0]\n",
      "\n",
      "Accuracy :  0.9\n",
      "Precision :  0.9047619047619048\n",
      "Recall :  0.8910256410256411\n",
      "F1-SCORE :  0.8962962962962964\n",
      "AUC :  0.9897932949403537\n"
     ]
    }
   ],
   "source": [
    "from sklearn import datasets\n",
    "iris = datasets.load_iris()\n",
    "\n",
    "x = iris.data\n",
    "y = iris.target\n",
    "\n",
    "from sklearn.model_selection import train_test_split\n",
    "x_train, x_test, y_train, y_test = train_test_split(x,y,train_size=0.8)\n",
    "\n",
    "from sklearn.ensemble import RandomForestClassifier\n",
    "RF = RandomForestClassifier()\n",
    "\n",
    "train = RF.fit(x_train, y_train)\n",
    "y_pred = RF.predict(x_test)\n",
    "print(y_pred)\n",
    "y_auc = RF.predict_proba(x_test)\n",
    "\n",
    "from sklearn.metrics import accuracy_score, precision_score, recall_score, f1_score, roc_auc_score\n",
    "Accuracy = accuracy_score(y_test, y_pred)\n",
    "Precision = precision_score(y_test, y_pred, average='macro')\n",
    "Recall = recall_score(y_test, y_pred, average='macro')\n",
    "f1 = f1_score(y_test, y_pred, average='macro')\n",
    "auc = roc_auc_score(y_test, y_auc, multi_class='ovr')\n",
    "\n",
    "print(\"\\nAccuracy : \", Accuracy)\n",
    "print(\"Precision : \", Precision)\n",
    "print(\"Recall : \", Recall)\n",
    "print(\"F1-SCORE : \", f1)\n",
    "print(\"AUC : \", auc)"
   ]
  },
  {
   "cell_type": "markdown",
   "id": "fa93211d",
   "metadata": {},
   "source": [
    "# 11. SVM"
   ]
  },
  {
   "cell_type": "code",
   "execution_count": 116,
   "id": "bda12cf7",
   "metadata": {},
   "outputs": [
    {
     "name": "stdout",
     "output_type": "stream",
     "text": [
      "[1 1 0 0 1 2 2 1 1 0 1 0 2 0 2 2 0 2 1 1 1 0 1 2 2 0 0 0 2 1]\n",
      "\n",
      "Accuracy :  0.9333333333333333\n",
      "Precision :  0.9326599326599326\n",
      "Recall :  0.9326599326599326\n",
      "F1-SCORE :  0.9326599326599326\n",
      "AUC :  0.9966414352379265\n"
     ]
    }
   ],
   "source": [
    "from sklearn import datasets\n",
    "iris = datasets.load_iris()\n",
    "\n",
    "x = iris.data\n",
    "y = iris.target\n",
    "\n",
    "from sklearn.model_selection import train_test_split\n",
    "x_train, x_test, y_train, y_test = train_test_split(x,y,train_size=0.8)\n",
    "\n",
    "from sklearn import svm\n",
    "svc_cl = svm.SVC(probability=True)\n",
    "\n",
    "train = svc_cl.fit(x_train, y_train)\n",
    "y_pred = svc_cl.predict(x_test)\n",
    "print(y_pred)\n",
    "y_auc = svc_cl.predict_proba(x_test)\n",
    "\n",
    "from sklearn.metrics import accuracy_score, precision_score, recall_score, f1_score, roc_auc_score\n",
    "Accuracy = accuracy_score(y_test, y_pred)\n",
    "Precision = precision_score(y_test, y_pred, average='macro')\n",
    "Recall = recall_score(y_test, y_pred, average='macro')\n",
    "f1 = f1_score(y_test, y_pred, average='macro')\n",
    "auc = roc_auc_score(y_test, y_auc, multi_class='ovr')\n",
    "\n",
    "print(\"\\nAccuracy : \", Accuracy)\n",
    "print(\"Precision : \", Precision)\n",
    "print(\"Recall : \", Recall)\n",
    "print(\"F1-SCORE : \", f1)\n",
    "print(\"AUC : \", auc)"
   ]
  }
 ],
 "metadata": {
  "kernelspec": {
   "display_name": "Python 3",
   "language": "python",
   "name": "python3"
  },
  "language_info": {
   "codemirror_mode": {
    "name": "ipython",
    "version": 3
   },
   "file_extension": ".py",
   "mimetype": "text/x-python",
   "name": "python",
   "nbconvert_exporter": "python",
   "pygments_lexer": "ipython3",
   "version": "3.13.5"
  }
 },
 "nbformat": 4,
 "nbformat_minor": 5
}
